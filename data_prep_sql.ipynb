{
 "cells": [
  {
   "cell_type": "raw",
   "metadata": {},
   "source": [
    "select txn.customer_id\n",
    "       ,txn.date_of_txn\n",
    "       ,item.brand\n",
    "       ,item.brand_type\n",
    "       ,item.category\n",
    "       ,txn.quantity\n",
    "       ,txn.selling_price\n",
    "       ,txn.other_discount\n",
    "       ,txn.coupon_discount\n",
    "       ,demo.age_range\n",
    "       ,demo.marital_status\n",
    "       ,demo.rented\n",
    "       ,demo.family_size\n",
    "       ,demo.no_of_children\n",
    "       ,demo.income_bracket\n",
    "from av_customer_transaction_data txn\n",
    "    , av_item_data item\n",
    "    , av_customer_demographics demo \n",
    "where txn.item_id = item.item_id \n",
    "      and txn.customer_id=demo.customer_id;"
   ]
  }
 ],
 "metadata": {
  "kernelspec": {
   "display_name": "Python 3",
   "language": "python",
   "name": "python3"
  },
  "language_info": {
   "codemirror_mode": {
    "name": "ipython",
    "version": 3
   },
   "file_extension": ".py",
   "mimetype": "text/x-python",
   "name": "python",
   "nbconvert_exporter": "python",
   "pygments_lexer": "ipython3",
   "version": "3.7.3"
  }
 },
 "nbformat": 4,
 "nbformat_minor": 2
}
