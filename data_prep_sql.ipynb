{
 "cells": [
  {
   "cell_type": "markdown",
   "metadata": {},
   "source": [
    "### Query for no. of records loaded into the database of all the data sets "
   ]
  },
  {
   "cell_type": "raw",
   "metadata": {},
   "source": [
    "SELECT 'av_campaign_data' AS dataset_name, COUNT(*) AS record_count FROM av_campaign_data\n",
    "UNION\n",
    "SELECT 'av_coupon_item_mapping' AS dataset_name, COUNT(*) AS record_count FROM av_coupon_item_mapping\n",
    "UNION\n",
    "SELECT 'av_customer_transaction_data' AS dataset_name, COUNT(*) AS record_count FROM av_customer_transaction_data\n",
    "UNION\n",
    "SELECT 'av_customer_demographics' AS dataset_name, COUNT(*) AS record_count FROM av_customer_demographics\n",
    "UNION\n",
    "SELECT 'av_item_data' AS dataset_name, COUNT(*) AS record_count FROM av_item_data\n",
    "UNION\n",
    "SELECT 'av_train' AS dataset_name, COUNT(*) AS record_count FROM av_train\n",
    "UNION\n",
    "SELECT 'av_test' AS dataset_name, COUNT(*) AS record_count FROM av_test;"
   ]
  },
  {
   "cell_type": "markdown",
   "metadata": {},
   "source": [
    "### Query for: Customer - Demography - transactions - item details \n",
    "\n",
    "The resultant of this query is stored in a file \"amex_customer_demo_txn_item.csv\""
   ]
  },
  {
   "cell_type": "raw",
   "metadata": {},
   "source": [
    "select txn.customer_id\n",
    "       ,txn.date_of_txn\n",
    "       ,item.brand\n",
    "       ,item.brand_type\n",
    "       ,item.category\n",
    "       ,txn.quantity\n",
    "       ,txn.selling_price\n",
    "       ,txn.other_discount\n",
    "       ,txn.coupon_discount\n",
    "       ,demo.age_range\n",
    "       ,demo.marital_status\n",
    "       ,demo.rented\n",
    "       ,demo.family_size\n",
    "       ,demo.no_of_children\n",
    "       ,demo.income_bracket\n",
    "from av_customer_transaction_data txn\n",
    "    , av_item_data item\n",
    "    , av_customer_demographics demo \n",
    "where txn.item_id = item.item_id \n",
    "      and txn.customer_id=demo.customer_id;"
   ]
  },
  {
   "cell_type": "markdown",
   "metadata": {},
   "source": [
    "### Query for merging training & testing dataset with campaign data \n",
    "\n",
    "The results are stored in \"amex_train_campaign.csv\" and \"amex_test_campaign.csv\""
   ]
  },
  {
   "cell_type": "raw",
   "metadata": {},
   "source": [
    "select \n",
    "     train.id\n",
    "     ,train.customer_id\n",
    "     ,train.campaign_id\n",
    "     ,campaign.campaign_type\n",
    "     ,campaign.start_date\n",
    "     ,campaign.end_date\n",
    "     ,train.coupon_id\n",
    "     ,train.redemption_status\n",
    "from \n",
    "     av_train train\n",
    "    ,av_campaign_data campaign \n",
    "where train.campaign_id = campaign.campaign_id;\n",
    "\n",
    "\n",
    "select \n",
    "     test.id\n",
    "     ,test.customer_id\n",
    "     ,test.campaign_id\n",
    "     ,campaign.campaign_type\n",
    "     ,campaign.start_date\n",
    "     ,campaign.end_date\n",
    "     ,test.coupon_id\n",
    "     ,null as redemption_status\n",
    "from \n",
    "     av_test test\n",
    "    ,av_campaign_data campaign \n",
    "where test.campaign_id = campaign.campaign_id;"
   ]
  },
  {
   "cell_type": "markdown",
   "metadata": {},
   "source": [
    "### Script for merging the items that are valid for a coupon \n",
    "\n",
    "The resultant dataset is loaded into \"amex_coupon_item_grouping.csv\""
   ]
  },
  {
   "cell_type": "code",
   "execution_count": 2,
   "metadata": {},
   "outputs": [],
   "source": [
    "import pandas as pd\n",
    "pd.options.display.html.table_schema = True"
   ]
  },
  {
   "cell_type": "code",
   "execution_count": 91,
   "metadata": {},
   "outputs": [
    {
     "data": {
      "application/vnd.dataresource+json": {
       "data": [
        {
         "coupon_id": 37,
         "index": 10498,
         "item_id": 57131
        },
        {
         "coupon_id": 7,
         "index": 26720,
         "item_id": 72803
        },
        {
         "coupon_id": 932,
         "index": 10081,
         "item_id": 55367
        },
        {
         "coupon_id": 33,
         "index": 69905,
         "item_id": 51288
        },
        {
         "coupon_id": 22,
         "index": 40124,
         "item_id": 19975
        }
       ],
       "schema": {
        "fields": [
         {
          "name": "index",
          "type": "integer"
         },
         {
          "name": "coupon_id",
          "type": "integer"
         },
         {
          "name": "item_id",
          "type": "integer"
         }
        ],
        "pandas_version": "0.20.0",
        "primaryKey": [
         "index"
        ]
       }
      },
      "text/html": [
       "<div>\n",
       "<style scoped>\n",
       "    .dataframe tbody tr th:only-of-type {\n",
       "        vertical-align: middle;\n",
       "    }\n",
       "\n",
       "    .dataframe tbody tr th {\n",
       "        vertical-align: top;\n",
       "    }\n",
       "\n",
       "    .dataframe thead th {\n",
       "        text-align: right;\n",
       "    }\n",
       "</style>\n",
       "<table border=\"1\" class=\"dataframe\">\n",
       "  <thead>\n",
       "    <tr style=\"text-align: right;\">\n",
       "      <th></th>\n",
       "      <th>coupon_id</th>\n",
       "      <th>item_id</th>\n",
       "    </tr>\n",
       "  </thead>\n",
       "  <tbody>\n",
       "    <tr>\n",
       "      <th>10498</th>\n",
       "      <td>37</td>\n",
       "      <td>57131</td>\n",
       "    </tr>\n",
       "    <tr>\n",
       "      <th>26720</th>\n",
       "      <td>7</td>\n",
       "      <td>72803</td>\n",
       "    </tr>\n",
       "    <tr>\n",
       "      <th>10081</th>\n",
       "      <td>932</td>\n",
       "      <td>55367</td>\n",
       "    </tr>\n",
       "    <tr>\n",
       "      <th>69905</th>\n",
       "      <td>33</td>\n",
       "      <td>51288</td>\n",
       "    </tr>\n",
       "    <tr>\n",
       "      <th>40124</th>\n",
       "      <td>22</td>\n",
       "      <td>19975</td>\n",
       "    </tr>\n",
       "  </tbody>\n",
       "</table>\n",
       "</div>"
      ],
      "text/plain": [
       "       coupon_id  item_id\n",
       "10498         37    57131\n",
       "26720          7    72803\n",
       "10081        932    55367\n",
       "69905         33    51288\n",
       "40124         22    19975"
      ]
     },
     "execution_count": 91,
     "metadata": {},
     "output_type": "execute_result"
    }
   ],
   "source": [
    "coupon_item_mapping = pd.read_csv('data//coupon_item_mapping.csv')\n",
    "coupon_item_mapping.sample(5)"
   ]
  },
  {
   "cell_type": "code",
   "execution_count": 92,
   "metadata": {},
   "outputs": [],
   "source": [
    "coupons = set(coupon_item_mapping['coupon_id'].unique())"
   ]
  },
  {
   "cell_type": "code",
   "execution_count": 93,
   "metadata": {},
   "outputs": [],
   "source": [
    "coupon_item_grouping = pd.DataFrame(columns={'items','coupon_id'})"
   ]
  },
  {
   "cell_type": "code",
   "execution_count": 94,
   "metadata": {},
   "outputs": [
    {
     "data": {
      "text/plain": [
       "(1116, 2)"
      ]
     },
     "execution_count": 94,
     "metadata": {},
     "output_type": "execute_result"
    }
   ],
   "source": [
    "counter = 0\n",
    "for c in coupons:\n",
    "    items_for_coupon = list(set(coupon_item_mapping[coupon_item_mapping.coupon_id == c]['item_id']))\n",
    "    coupon_item_grouping.at[counter,'items'] = items_for_coupon\n",
    "    coupon_item_grouping.at[counter,'coupon_id'] = c\n",
    "    counter += 1\n",
    "coupon_item_grouping.shape"
   ]
  },
  {
   "cell_type": "code",
   "execution_count": 95,
   "metadata": {},
   "outputs": [
    {
     "data": {
      "application/vnd.dataresource+json": {
       "data": [
        {
         "coupon_id": 609,
         "index": 608,
         "items": [
          7813,
          39560,
          4238,
          44305,
          57107,
          57108,
          43029,
          50582,
          2974,
          4006,
          7350,
          50620,
          44092,
          49859,
          44105,
          56661,
          15708,
          43484,
          14176,
          40929,
          3050,
          3065
         ]
        },
        {
         "coupon_id": 1111,
         "index": 1110,
         "items": [
          20337,
          29370,
          31498,
          18164
         ]
        },
        {
         "coupon_id": 119,
         "index": 118,
         "items": [
          38178,
          7106,
          40005,
          42775,
          51602,
          31442,
          31028,
          39927,
          57912,
          3868,
          51774
         ]
        },
        {
         "coupon_id": 715,
         "index": 714,
         "items": [
          9889,
          20803,
          10116,
          14731,
          11628,
          39308,
          12815,
          44272,
          34833,
          1684,
          34710,
          43415,
          41849,
          36319
         ]
        },
        {
         "coupon_id": 480,
         "index": 479,
         "items": [
          72679
         ]
        }
       ],
       "schema": {
        "fields": [
         {
          "name": "index",
          "type": "integer"
         },
         {
          "name": "items",
          "type": "string"
         },
         {
          "name": "coupon_id",
          "type": "string"
         }
        ],
        "pandas_version": "0.20.0",
        "primaryKey": [
         "index"
        ]
       }
      },
      "text/html": [
       "<div>\n",
       "<style scoped>\n",
       "    .dataframe tbody tr th:only-of-type {\n",
       "        vertical-align: middle;\n",
       "    }\n",
       "\n",
       "    .dataframe tbody tr th {\n",
       "        vertical-align: top;\n",
       "    }\n",
       "\n",
       "    .dataframe thead th {\n",
       "        text-align: right;\n",
       "    }\n",
       "</style>\n",
       "<table border=\"1\" class=\"dataframe\">\n",
       "  <thead>\n",
       "    <tr style=\"text-align: right;\">\n",
       "      <th></th>\n",
       "      <th>items</th>\n",
       "      <th>coupon_id</th>\n",
       "    </tr>\n",
       "  </thead>\n",
       "  <tbody>\n",
       "    <tr>\n",
       "      <th>608</th>\n",
       "      <td>[7813, 39560, 4238, 44305, 57107, 57108, 43029...</td>\n",
       "      <td>609</td>\n",
       "    </tr>\n",
       "    <tr>\n",
       "      <th>1110</th>\n",
       "      <td>[20337, 29370, 31498, 18164]</td>\n",
       "      <td>1111</td>\n",
       "    </tr>\n",
       "    <tr>\n",
       "      <th>118</th>\n",
       "      <td>[38178, 7106, 40005, 42775, 51602, 31442, 3102...</td>\n",
       "      <td>119</td>\n",
       "    </tr>\n",
       "    <tr>\n",
       "      <th>714</th>\n",
       "      <td>[9889, 20803, 10116, 14731, 11628, 39308, 1281...</td>\n",
       "      <td>715</td>\n",
       "    </tr>\n",
       "    <tr>\n",
       "      <th>479</th>\n",
       "      <td>[72679]</td>\n",
       "      <td>480</td>\n",
       "    </tr>\n",
       "  </tbody>\n",
       "</table>\n",
       "</div>"
      ],
      "text/plain": [
       "                                                  items coupon_id\n",
       "608   [7813, 39560, 4238, 44305, 57107, 57108, 43029...       609\n",
       "1110                       [20337, 29370, 31498, 18164]      1111\n",
       "118   [38178, 7106, 40005, 42775, 51602, 31442, 3102...       119\n",
       "714   [9889, 20803, 10116, 14731, 11628, 39308, 1281...       715\n",
       "479                                             [72679]       480"
      ]
     },
     "execution_count": 95,
     "metadata": {},
     "output_type": "execute_result"
    }
   ],
   "source": [
    "coupon_item_grouping.sample(5)"
   ]
  },
  {
   "cell_type": "code",
   "execution_count": 96,
   "metadata": {},
   "outputs": [],
   "source": [
    "coupon_item_grouping.to_csv('data//amex_coupon_item_grouping.csv',index=False)"
   ]
  },
  {
   "cell_type": "markdown",
   "metadata": {},
   "source": [
    "### Merging the above coupon_item_grouping to the amex_train_campaign and amex_test_campaign datasets"
   ]
  },
  {
   "cell_type": "code",
   "execution_count": 97,
   "metadata": {},
   "outputs": [
    {
     "data": {
      "text/plain": [
       "((78369, 8), (50226, 8))"
      ]
     },
     "execution_count": 97,
     "metadata": {},
     "output_type": "execute_result"
    }
   ],
   "source": [
    "amex_train_campaign = pd.read_csv('data//amex_train_campaign.csv',infer_datetime_format=True,parse_dates=True)\n",
    "amex_test_campaign = pd.read_csv('data//amex_test_campaign.csv',infer_datetime_format=True,parse_dates=True)\n",
    "amex_train_campaign.columns = ['id','customer_id','campaign_id','campaign_type','start_date','end_date','coupon_id','redumption_status']\n",
    "amex_test_campaign.columns = ['id','customer_id','campaign_id','campaign_type','start_date','end_date','coupon_id','redumption_status']\n",
    "amex_train_campaign.shape, amex_test_campaign.shape"
   ]
  },
  {
   "cell_type": "code",
   "execution_count": 98,
   "metadata": {},
   "outputs": [
    {
     "data": {
      "application/vnd.dataresource+json": {
       "data": [
        {
         "campaign_id": 30,
         "campaign_type": "X",
         "coupon_id": 595,
         "customer_id": 1429,
         "end_date": "04-JAN-13",
         "id": 27404,
         "index": 16655,
         "redumption_status": 0,
         "start_date": "19-NOV-12"
        },
        {
         "campaign_id": 13,
         "campaign_type": "X",
         "coupon_id": 23,
         "customer_id": 34,
         "end_date": "05-JUL-13",
         "id": 119640,
         "index": 72841,
         "redumption_status": 0,
         "start_date": "19-MAY-13"
        },
        {
         "campaign_id": 8,
         "campaign_type": "X",
         "coupon_id": 672,
         "customer_id": 466,
         "end_date": "05-APR-13",
         "id": 121680,
         "index": 74094,
         "redumption_status": 0,
         "start_date": "16-FEB-13"
        },
        {
         "campaign_id": 29,
         "campaign_type": "Y",
         "coupon_id": 445,
         "customer_id": 474,
         "end_date": "30-NOV-12",
         "id": 123001,
         "index": 74903,
         "redumption_status": 0,
         "start_date": "08-OCT-12"
        },
        {
         "campaign_id": 8,
         "campaign_type": "X",
         "coupon_id": 579,
         "customer_id": 1482,
         "end_date": "05-APR-13",
         "id": 51708,
         "index": 31553,
         "redumption_status": 0,
         "start_date": "16-FEB-13"
        }
       ],
       "schema": {
        "fields": [
         {
          "name": "index",
          "type": "integer"
         },
         {
          "name": "id",
          "type": "integer"
         },
         {
          "name": "customer_id",
          "type": "integer"
         },
         {
          "name": "campaign_id",
          "type": "integer"
         },
         {
          "name": "campaign_type",
          "type": "string"
         },
         {
          "name": "start_date",
          "type": "string"
         },
         {
          "name": "end_date",
          "type": "string"
         },
         {
          "name": "coupon_id",
          "type": "integer"
         },
         {
          "name": "redumption_status",
          "type": "integer"
         }
        ],
        "pandas_version": "0.20.0",
        "primaryKey": [
         "index"
        ]
       }
      },
      "text/html": [
       "<div>\n",
       "<style scoped>\n",
       "    .dataframe tbody tr th:only-of-type {\n",
       "        vertical-align: middle;\n",
       "    }\n",
       "\n",
       "    .dataframe tbody tr th {\n",
       "        vertical-align: top;\n",
       "    }\n",
       "\n",
       "    .dataframe thead th {\n",
       "        text-align: right;\n",
       "    }\n",
       "</style>\n",
       "<table border=\"1\" class=\"dataframe\">\n",
       "  <thead>\n",
       "    <tr style=\"text-align: right;\">\n",
       "      <th></th>\n",
       "      <th>id</th>\n",
       "      <th>customer_id</th>\n",
       "      <th>campaign_id</th>\n",
       "      <th>campaign_type</th>\n",
       "      <th>start_date</th>\n",
       "      <th>end_date</th>\n",
       "      <th>coupon_id</th>\n",
       "      <th>redumption_status</th>\n",
       "    </tr>\n",
       "  </thead>\n",
       "  <tbody>\n",
       "    <tr>\n",
       "      <th>16655</th>\n",
       "      <td>27404</td>\n",
       "      <td>1429</td>\n",
       "      <td>30</td>\n",
       "      <td>X</td>\n",
       "      <td>19-NOV-12</td>\n",
       "      <td>04-JAN-13</td>\n",
       "      <td>595</td>\n",
       "      <td>0</td>\n",
       "    </tr>\n",
       "    <tr>\n",
       "      <th>72841</th>\n",
       "      <td>119640</td>\n",
       "      <td>34</td>\n",
       "      <td>13</td>\n",
       "      <td>X</td>\n",
       "      <td>19-MAY-13</td>\n",
       "      <td>05-JUL-13</td>\n",
       "      <td>23</td>\n",
       "      <td>0</td>\n",
       "    </tr>\n",
       "    <tr>\n",
       "      <th>74094</th>\n",
       "      <td>121680</td>\n",
       "      <td>466</td>\n",
       "      <td>8</td>\n",
       "      <td>X</td>\n",
       "      <td>16-FEB-13</td>\n",
       "      <td>05-APR-13</td>\n",
       "      <td>672</td>\n",
       "      <td>0</td>\n",
       "    </tr>\n",
       "    <tr>\n",
       "      <th>74903</th>\n",
       "      <td>123001</td>\n",
       "      <td>474</td>\n",
       "      <td>29</td>\n",
       "      <td>Y</td>\n",
       "      <td>08-OCT-12</td>\n",
       "      <td>30-NOV-12</td>\n",
       "      <td>445</td>\n",
       "      <td>0</td>\n",
       "    </tr>\n",
       "    <tr>\n",
       "      <th>31553</th>\n",
       "      <td>51708</td>\n",
       "      <td>1482</td>\n",
       "      <td>8</td>\n",
       "      <td>X</td>\n",
       "      <td>16-FEB-13</td>\n",
       "      <td>05-APR-13</td>\n",
       "      <td>579</td>\n",
       "      <td>0</td>\n",
       "    </tr>\n",
       "  </tbody>\n",
       "</table>\n",
       "</div>"
      ],
      "text/plain": [
       "           id  customer_id  campaign_id campaign_type start_date   end_date  \\\n",
       "16655   27404         1429           30             X  19-NOV-12  04-JAN-13   \n",
       "72841  119640           34           13             X  19-MAY-13  05-JUL-13   \n",
       "74094  121680          466            8             X  16-FEB-13  05-APR-13   \n",
       "74903  123001          474           29             Y  08-OCT-12  30-NOV-12   \n",
       "31553   51708         1482            8             X  16-FEB-13  05-APR-13   \n",
       "\n",
       "       coupon_id  redumption_status  \n",
       "16655        595                  0  \n",
       "72841         23                  0  \n",
       "74094        672                  0  \n",
       "74903        445                  0  \n",
       "31553        579                  0  "
      ]
     },
     "execution_count": 98,
     "metadata": {},
     "output_type": "execute_result"
    }
   ],
   "source": [
    "amex_train_campaign.sample(5)"
   ]
  },
  {
   "cell_type": "code",
   "execution_count": 99,
   "metadata": {},
   "outputs": [
    {
     "data": {
      "application/vnd.dataresource+json": {
       "data": [
        {
         "campaign_id": 18,
         "campaign_type": "X",
         "coupon_id": 856,
         "customer_id": 302,
         "end_date": "04-OCT-13",
         "id": 82425,
         "index": 32161,
         "redumption_status": null,
         "start_date": "10-AUG-13"
        },
        {
         "campaign_id": 20,
         "campaign_type": "Y",
         "coupon_id": 836,
         "customer_id": 844,
         "end_date": "16-NOV-13",
         "id": 8063,
         "index": 3250,
         "redumption_status": null,
         "start_date": "07-SEP-13"
        },
        {
         "campaign_id": 22,
         "campaign_type": "X",
         "coupon_id": 518,
         "customer_id": 1095,
         "end_date": "18-OCT-13",
         "id": 95534,
         "index": 37400,
         "redumption_status": null,
         "start_date": "16-SEP-13"
        },
        {
         "campaign_id": 20,
         "campaign_type": "Y",
         "coupon_id": 263,
         "customer_id": 1270,
         "end_date": "16-NOV-13",
         "id": 65465,
         "index": 25603,
         "redumption_status": null,
         "start_date": "07-SEP-13"
        },
        {
         "campaign_id": 16,
         "campaign_type": "Y",
         "coupon_id": 28,
         "customer_id": 247,
         "end_date": "16-AUG-13",
         "id": 5131,
         "index": 2040,
         "redumption_status": null,
         "start_date": "15-JUL-13"
        }
       ],
       "schema": {
        "fields": [
         {
          "name": "index",
          "type": "integer"
         },
         {
          "name": "id",
          "type": "integer"
         },
         {
          "name": "customer_id",
          "type": "integer"
         },
         {
          "name": "campaign_id",
          "type": "integer"
         },
         {
          "name": "campaign_type",
          "type": "string"
         },
         {
          "name": "start_date",
          "type": "string"
         },
         {
          "name": "end_date",
          "type": "string"
         },
         {
          "name": "coupon_id",
          "type": "integer"
         },
         {
          "name": "redumption_status",
          "type": "number"
         }
        ],
        "pandas_version": "0.20.0",
        "primaryKey": [
         "index"
        ]
       }
      },
      "text/html": [
       "<div>\n",
       "<style scoped>\n",
       "    .dataframe tbody tr th:only-of-type {\n",
       "        vertical-align: middle;\n",
       "    }\n",
       "\n",
       "    .dataframe tbody tr th {\n",
       "        vertical-align: top;\n",
       "    }\n",
       "\n",
       "    .dataframe thead th {\n",
       "        text-align: right;\n",
       "    }\n",
       "</style>\n",
       "<table border=\"1\" class=\"dataframe\">\n",
       "  <thead>\n",
       "    <tr style=\"text-align: right;\">\n",
       "      <th></th>\n",
       "      <th>id</th>\n",
       "      <th>customer_id</th>\n",
       "      <th>campaign_id</th>\n",
       "      <th>campaign_type</th>\n",
       "      <th>start_date</th>\n",
       "      <th>end_date</th>\n",
       "      <th>coupon_id</th>\n",
       "      <th>redumption_status</th>\n",
       "    </tr>\n",
       "  </thead>\n",
       "  <tbody>\n",
       "    <tr>\n",
       "      <th>32161</th>\n",
       "      <td>82425</td>\n",
       "      <td>302</td>\n",
       "      <td>18</td>\n",
       "      <td>X</td>\n",
       "      <td>10-AUG-13</td>\n",
       "      <td>04-OCT-13</td>\n",
       "      <td>856</td>\n",
       "      <td>NaN</td>\n",
       "    </tr>\n",
       "    <tr>\n",
       "      <th>3250</th>\n",
       "      <td>8063</td>\n",
       "      <td>844</td>\n",
       "      <td>20</td>\n",
       "      <td>Y</td>\n",
       "      <td>07-SEP-13</td>\n",
       "      <td>16-NOV-13</td>\n",
       "      <td>836</td>\n",
       "      <td>NaN</td>\n",
       "    </tr>\n",
       "    <tr>\n",
       "      <th>37400</th>\n",
       "      <td>95534</td>\n",
       "      <td>1095</td>\n",
       "      <td>22</td>\n",
       "      <td>X</td>\n",
       "      <td>16-SEP-13</td>\n",
       "      <td>18-OCT-13</td>\n",
       "      <td>518</td>\n",
       "      <td>NaN</td>\n",
       "    </tr>\n",
       "    <tr>\n",
       "      <th>25603</th>\n",
       "      <td>65465</td>\n",
       "      <td>1270</td>\n",
       "      <td>20</td>\n",
       "      <td>Y</td>\n",
       "      <td>07-SEP-13</td>\n",
       "      <td>16-NOV-13</td>\n",
       "      <td>263</td>\n",
       "      <td>NaN</td>\n",
       "    </tr>\n",
       "    <tr>\n",
       "      <th>2040</th>\n",
       "      <td>5131</td>\n",
       "      <td>247</td>\n",
       "      <td>16</td>\n",
       "      <td>Y</td>\n",
       "      <td>15-JUL-13</td>\n",
       "      <td>16-AUG-13</td>\n",
       "      <td>28</td>\n",
       "      <td>NaN</td>\n",
       "    </tr>\n",
       "  </tbody>\n",
       "</table>\n",
       "</div>"
      ],
      "text/plain": [
       "          id  customer_id  campaign_id campaign_type start_date   end_date  \\\n",
       "32161  82425          302           18             X  10-AUG-13  04-OCT-13   \n",
       "3250    8063          844           20             Y  07-SEP-13  16-NOV-13   \n",
       "37400  95534         1095           22             X  16-SEP-13  18-OCT-13   \n",
       "25603  65465         1270           20             Y  07-SEP-13  16-NOV-13   \n",
       "2040    5131          247           16             Y  15-JUL-13  16-AUG-13   \n",
       "\n",
       "       coupon_id  redumption_status  \n",
       "32161        856                NaN  \n",
       "3250         836                NaN  \n",
       "37400        518                NaN  \n",
       "25603        263                NaN  \n",
       "2040          28                NaN  "
      ]
     },
     "execution_count": 99,
     "metadata": {},
     "output_type": "execute_result"
    }
   ],
   "source": [
    "amex_test_campaign.sample(5)"
   ]
  },
  {
   "cell_type": "code",
   "execution_count": 100,
   "metadata": {},
   "outputs": [
    {
     "name": "stdout",
     "output_type": "stream",
     "text": [
      "<class 'pandas.core.frame.DataFrame'>\n",
      "RangeIndex: 78369 entries, 0 to 78368\n",
      "Data columns (total 8 columns):\n",
      "id                   78369 non-null int64\n",
      "customer_id          78369 non-null int64\n",
      "campaign_id          78369 non-null int64\n",
      "campaign_type        78369 non-null object\n",
      "start_date           78369 non-null object\n",
      "end_date             78369 non-null object\n",
      "coupon_id            78369 non-null int64\n",
      "redumption_status    78369 non-null int64\n",
      "dtypes: int64(5), object(3)\n",
      "memory usage: 4.8+ MB\n"
     ]
    }
   ],
   "source": [
    "amex_train_campaign.info()"
   ]
  },
  {
   "cell_type": "code",
   "execution_count": 101,
   "metadata": {},
   "outputs": [],
   "source": [
    "amex_train_campaign_coupon = pd.merge(amex_train_campaign,coupon_item_grouping,on=\"coupon_id\")\n",
    "amex_test_campaign_coupon = pd.merge(amex_test_campaign,coupon_item_grouping,on=\"coupon_id\")"
   ]
  },
  {
   "cell_type": "code",
   "execution_count": 102,
   "metadata": {},
   "outputs": [
    {
     "data": {
      "application/vnd.dataresource+json": {
       "data": [
        {
         "campaign_id": 9,
         "campaign_type": "Y",
         "coupon_id": 705,
         "customer_id": 575,
         "end_date": "12-APR-13",
         "id": 78751,
         "index": 1971,
         "items": [
          39436,
          73742,
          13841,
          24085,
          62998,
          73239,
          73238,
          43037,
          60958,
          40994,
          49698,
          23591,
          18472,
          73772,
          44077,
          49709,
          35384,
          56378,
          45117,
          22079,
          16961,
          34369,
          43585,
          50754,
          36934,
          26696,
          594,
          8274,
          36438,
          15451,
          63068,
          44127,
          1641,
          8300,
          63112,
          30345,
          38027,
          1682,
          44182,
          11416,
          55960,
          68248,
          6299,
          59559,
          8881,
          40627,
          49336,
          1721,
          27323,
          50879,
          1224,
          46793,
          50891,
          28364,
          44240,
          15571,
          45269,
          43734,
          56022,
          36568,
          68316,
          45277,
          39135,
          40671,
          56035,
          35557,
          7910,
          1769,
          35562,
          39145,
          52462,
          47861,
          48892,
          37632,
          3333,
          11525,
          20232,
          3852,
          39183,
          73488,
          33042,
          50964,
          49430,
          40728,
          25886,
          63262,
          45344,
          24866,
          42275,
          67874,
          50981,
          27942,
          4904,
          56126,
          42826,
          67915,
          41806,
          2895,
          1364,
          68443,
          73053,
          1887,
          31072,
          4961,
          43872,
          67937,
          3432,
          37225,
          73066,
          49007,
          369,
          36728,
          39818,
          46996,
          56216,
          73112,
          22942,
          56225,
          20902,
          11177,
          42922,
          45493,
          49598,
          55231,
          8128,
          1477,
          51654,
          73670,
          22473,
          50633,
          73165,
          28623,
          71632,
          32209,
          73178,
          2017,
          42977,
          44003,
          73705,
          31215,
          16880,
          43504,
          38387,
          32756,
          1013,
          42483,
          63996
         ],
         "redumption_status": 0,
         "start_date": "11-MAR-13"
        },
        {
         "campaign_id": 13,
         "campaign_type": "X",
         "coupon_id": 653,
         "customer_id": 515,
         "end_date": "05-JUL-13",
         "id": 98290,
         "index": 42342,
         "items": [
          71238,
          25225,
          71186,
          71190,
          72443
         ],
         "redumption_status": 0,
         "start_date": "19-MAY-13"
        },
        {
         "campaign_id": 8,
         "campaign_type": "X",
         "coupon_id": 544,
         "customer_id": 124,
         "end_date": "05-APR-13",
         "id": 101658,
         "index": 16717,
         "items": [
          40450,
          21666,
          31076,
          47107,
          29865,
          14315,
          17836,
          23660,
          47120,
          58389,
          29080
         ],
         "redumption_status": 0,
         "start_date": "16-FEB-13"
        },
        {
         "campaign_id": 13,
         "campaign_type": "X",
         "coupon_id": 979,
         "customer_id": 432,
         "end_date": "05-JUL-13",
         "id": 69263,
         "index": 41930,
         "items": [
          49896,
          56842,
          58667
         ],
         "redumption_status": 0,
         "start_date": "19-MAY-13"
        },
        {
         "campaign_id": 7,
         "campaign_type": "Y",
         "coupon_id": 1050,
         "customer_id": 499,
         "end_date": "08-MAR-13",
         "id": 49008,
         "index": 24952,
         "items": [
          64832,
          64954
         ],
         "redumption_status": 0,
         "start_date": "02-FEB-13"
        }
       ],
       "schema": {
        "fields": [
         {
          "name": "index",
          "type": "integer"
         },
         {
          "name": "id",
          "type": "integer"
         },
         {
          "name": "customer_id",
          "type": "integer"
         },
         {
          "name": "campaign_id",
          "type": "integer"
         },
         {
          "name": "campaign_type",
          "type": "string"
         },
         {
          "name": "start_date",
          "type": "string"
         },
         {
          "name": "end_date",
          "type": "string"
         },
         {
          "name": "coupon_id",
          "type": "string"
         },
         {
          "name": "redumption_status",
          "type": "integer"
         },
         {
          "name": "items",
          "type": "string"
         }
        ],
        "pandas_version": "0.20.0",
        "primaryKey": [
         "index"
        ]
       }
      },
      "text/html": [
       "<div>\n",
       "<style scoped>\n",
       "    .dataframe tbody tr th:only-of-type {\n",
       "        vertical-align: middle;\n",
       "    }\n",
       "\n",
       "    .dataframe tbody tr th {\n",
       "        vertical-align: top;\n",
       "    }\n",
       "\n",
       "    .dataframe thead th {\n",
       "        text-align: right;\n",
       "    }\n",
       "</style>\n",
       "<table border=\"1\" class=\"dataframe\">\n",
       "  <thead>\n",
       "    <tr style=\"text-align: right;\">\n",
       "      <th></th>\n",
       "      <th>id</th>\n",
       "      <th>customer_id</th>\n",
       "      <th>campaign_id</th>\n",
       "      <th>campaign_type</th>\n",
       "      <th>start_date</th>\n",
       "      <th>end_date</th>\n",
       "      <th>coupon_id</th>\n",
       "      <th>redumption_status</th>\n",
       "      <th>items</th>\n",
       "    </tr>\n",
       "  </thead>\n",
       "  <tbody>\n",
       "    <tr>\n",
       "      <th>1971</th>\n",
       "      <td>78751</td>\n",
       "      <td>575</td>\n",
       "      <td>9</td>\n",
       "      <td>Y</td>\n",
       "      <td>11-MAR-13</td>\n",
       "      <td>12-APR-13</td>\n",
       "      <td>705</td>\n",
       "      <td>0</td>\n",
       "      <td>[39436, 73742, 13841, 24085, 62998, 73239, 732...</td>\n",
       "    </tr>\n",
       "    <tr>\n",
       "      <th>42342</th>\n",
       "      <td>98290</td>\n",
       "      <td>515</td>\n",
       "      <td>13</td>\n",
       "      <td>X</td>\n",
       "      <td>19-MAY-13</td>\n",
       "      <td>05-JUL-13</td>\n",
       "      <td>653</td>\n",
       "      <td>0</td>\n",
       "      <td>[71238, 25225, 71186, 71190, 72443]</td>\n",
       "    </tr>\n",
       "    <tr>\n",
       "      <th>16717</th>\n",
       "      <td>101658</td>\n",
       "      <td>124</td>\n",
       "      <td>8</td>\n",
       "      <td>X</td>\n",
       "      <td>16-FEB-13</td>\n",
       "      <td>05-APR-13</td>\n",
       "      <td>544</td>\n",
       "      <td>0</td>\n",
       "      <td>[40450, 21666, 31076, 47107, 29865, 14315, 178...</td>\n",
       "    </tr>\n",
       "    <tr>\n",
       "      <th>41930</th>\n",
       "      <td>69263</td>\n",
       "      <td>432</td>\n",
       "      <td>13</td>\n",
       "      <td>X</td>\n",
       "      <td>19-MAY-13</td>\n",
       "      <td>05-JUL-13</td>\n",
       "      <td>979</td>\n",
       "      <td>0</td>\n",
       "      <td>[49896, 56842, 58667]</td>\n",
       "    </tr>\n",
       "    <tr>\n",
       "      <th>24952</th>\n",
       "      <td>49008</td>\n",
       "      <td>499</td>\n",
       "      <td>7</td>\n",
       "      <td>Y</td>\n",
       "      <td>02-FEB-13</td>\n",
       "      <td>08-MAR-13</td>\n",
       "      <td>1050</td>\n",
       "      <td>0</td>\n",
       "      <td>[64832, 64954]</td>\n",
       "    </tr>\n",
       "  </tbody>\n",
       "</table>\n",
       "</div>"
      ],
      "text/plain": [
       "           id  customer_id  campaign_id campaign_type start_date   end_date  \\\n",
       "1971    78751          575            9             Y  11-MAR-13  12-APR-13   \n",
       "42342   98290          515           13             X  19-MAY-13  05-JUL-13   \n",
       "16717  101658          124            8             X  16-FEB-13  05-APR-13   \n",
       "41930   69263          432           13             X  19-MAY-13  05-JUL-13   \n",
       "24952   49008          499            7             Y  02-FEB-13  08-MAR-13   \n",
       "\n",
       "      coupon_id  redumption_status  \\\n",
       "1971        705                  0   \n",
       "42342       653                  0   \n",
       "16717       544                  0   \n",
       "41930       979                  0   \n",
       "24952      1050                  0   \n",
       "\n",
       "                                                   items  \n",
       "1971   [39436, 73742, 13841, 24085, 62998, 73239, 732...  \n",
       "42342                [71238, 25225, 71186, 71190, 72443]  \n",
       "16717  [40450, 21666, 31076, 47107, 29865, 14315, 178...  \n",
       "41930                              [49896, 56842, 58667]  \n",
       "24952                                     [64832, 64954]  "
      ]
     },
     "execution_count": 102,
     "metadata": {},
     "output_type": "execute_result"
    }
   ],
   "source": [
    "amex_train_campaign_coupon.sample(5)"
   ]
  },
  {
   "cell_type": "code",
   "execution_count": 103,
   "metadata": {},
   "outputs": [
    {
     "data": {
      "application/vnd.dataresource+json": {
       "data": [
        {
         "campaign_id": 25,
         "campaign_type": "Y",
         "coupon_id": 522,
         "customer_id": 431,
         "end_date": "22-NOV-13",
         "id": 49576,
         "index": 33348,
         "items": [
          5634,
          65028,
          56871,
          41522,
          35894,
          42046,
          6731,
          42059,
          77,
          81,
          1621,
          22105,
          44634,
          25181,
          26214,
          28267,
          34936,
          4218,
          33408,
          1667,
          53891,
          65156,
          65157,
          56967,
          17033,
          12430,
          40105,
          18611,
          27318,
          3264,
          199,
          43730,
          14547,
          8916,
          226,
          38119,
          11498,
          36088,
          52984,
          58626,
          38659,
          65282,
          264,
          41233,
          45338,
          3356,
          34076,
          39715,
          27435,
          23340,
          41777,
          40247,
          326,
          22350,
          43342,
          1372,
          22895,
          3443,
          44407,
          7031,
          13689,
          7035,
          44414,
          31615,
          44425,
          42382,
          11663,
          46997,
          24474,
          41375,
          32684,
          42927,
          33712,
          52145,
          57266,
          40887,
          47031,
          16321,
          40387,
          48631,
          966,
          979,
          3544,
          30681,
          995,
          65007,
          10737,
          27633,
          42998,
          35831,
          5626
         ],
         "redumption_status": null,
         "start_date": "21-OCT-13"
        },
        {
         "campaign_id": 22,
         "campaign_type": "X",
         "coupon_id": 432,
         "customer_id": 935,
         "end_date": "18-OCT-13",
         "id": 105782,
         "index": 18761,
         "items": [
          41346,
          36099,
          45061,
          5126,
          1415,
          46853,
          44939,
          25868,
          51981,
          15374,
          34451,
          9494,
          3863,
          1058,
          47011,
          53027,
          10792,
          10029,
          35373,
          27824,
          44980,
          24245,
          30389,
          30902,
          16956,
          9537,
          46915,
          42948,
          22342,
          10567,
          20807,
          46794,
          41931,
          44496,
          26705,
          10455,
          43865,
          3163,
          25568,
          30304,
          42336,
          37487,
          38897,
          46963,
          53111,
          30840,
          1530,
          31101,
          52990
         ],
         "redumption_status": null,
         "start_date": "16-SEP-13"
        },
        {
         "campaign_id": 18,
         "campaign_type": "X",
         "coupon_id": 387,
         "customer_id": 934,
         "end_date": "04-OCT-13",
         "id": 85970,
         "index": 38471,
         "items": [
          41601,
          49409,
          54664,
          40587,
          42131,
          42517,
          64026,
          49306,
          64158,
          49185,
          19498,
          8619,
          44970,
          29232,
          1073,
          46896,
          73528,
          56893,
          39235,
          42446,
          5461,
          598,
          9816,
          73563,
          3428,
          43365,
          20075,
          54769,
          18930,
          73590,
          13947
         ],
         "redumption_status": null,
         "start_date": "10-AUG-13"
        },
        {
         "campaign_id": 20,
         "campaign_type": "Y",
         "coupon_id": 841,
         "customer_id": 196,
         "end_date": "16-NOV-13",
         "id": 29081,
         "index": 9041,
         "items": [
          1543,
          17417,
          5139,
          48673,
          48679,
          48685,
          4147,
          48697,
          48714,
          24151,
          32349,
          29796,
          8818,
          3229,
          15517,
          34475,
          32948,
          48309,
          31421,
          23748,
          23254,
          58090,
          34027,
          48363,
          58092,
          12532,
          25338,
          68872,
          68873,
          13066,
          68877,
          1314,
          24354,
          68900,
          38181,
          58149,
          58150,
          41260,
          58158,
          38707,
          68916,
          11066,
          48446,
          14145,
          32577,
          43843,
          68935,
          68936,
          14153,
          58188,
          58195,
          40281,
          29021,
          29024,
          58209,
          68963,
          68964,
          18790,
          58215,
          16745,
          11116,
          22906,
          58236,
          58238,
          7041,
          28035,
          1924,
          68995,
          58249,
          40842,
          8076,
          69004,
          58254,
          1935,
          69005,
          3990,
          19350,
          1945,
          63906,
          3491,
          69029,
          34214,
          38312,
          69036,
          69038,
          69040,
          58289,
          69041,
          23478,
          20919,
          13242,
          58303,
          58304,
          3010,
          15812,
          36295,
          58315,
          48591,
          48592,
          35799,
          48602,
          18909,
          58333,
          48607,
          58335,
          48609,
          48610,
          16878,
          20471,
          48636,
          10238
         ],
         "redumption_status": null,
         "start_date": "07-SEP-13"
        },
        {
         "campaign_id": 22,
         "campaign_type": "X",
         "coupon_id": 801,
         "customer_id": 585,
         "end_date": "18-OCT-13",
         "id": 121283,
         "index": 15481,
         "items": [
          24839,
          264,
          8457,
          12430,
          46997,
          45338,
          34076,
          40105,
          27435,
          33712,
          52145,
          57266,
          18611,
          47031,
          326,
          42059,
          42063,
          36093,
          58714,
          72796,
          70365,
          4198,
          60786,
          23028,
          52984,
          13689,
          70140,
          38397
         ],
         "redumption_status": null,
         "start_date": "16-SEP-13"
        }
       ],
       "schema": {
        "fields": [
         {
          "name": "index",
          "type": "integer"
         },
         {
          "name": "id",
          "type": "integer"
         },
         {
          "name": "customer_id",
          "type": "integer"
         },
         {
          "name": "campaign_id",
          "type": "integer"
         },
         {
          "name": "campaign_type",
          "type": "string"
         },
         {
          "name": "start_date",
          "type": "string"
         },
         {
          "name": "end_date",
          "type": "string"
         },
         {
          "name": "coupon_id",
          "type": "string"
         },
         {
          "name": "redumption_status",
          "type": "number"
         },
         {
          "name": "items",
          "type": "string"
         }
        ],
        "pandas_version": "0.20.0",
        "primaryKey": [
         "index"
        ]
       }
      },
      "text/html": [
       "<div>\n",
       "<style scoped>\n",
       "    .dataframe tbody tr th:only-of-type {\n",
       "        vertical-align: middle;\n",
       "    }\n",
       "\n",
       "    .dataframe tbody tr th {\n",
       "        vertical-align: top;\n",
       "    }\n",
       "\n",
       "    .dataframe thead th {\n",
       "        text-align: right;\n",
       "    }\n",
       "</style>\n",
       "<table border=\"1\" class=\"dataframe\">\n",
       "  <thead>\n",
       "    <tr style=\"text-align: right;\">\n",
       "      <th></th>\n",
       "      <th>id</th>\n",
       "      <th>customer_id</th>\n",
       "      <th>campaign_id</th>\n",
       "      <th>campaign_type</th>\n",
       "      <th>start_date</th>\n",
       "      <th>end_date</th>\n",
       "      <th>coupon_id</th>\n",
       "      <th>redumption_status</th>\n",
       "      <th>items</th>\n",
       "    </tr>\n",
       "  </thead>\n",
       "  <tbody>\n",
       "    <tr>\n",
       "      <th>33348</th>\n",
       "      <td>49576</td>\n",
       "      <td>431</td>\n",
       "      <td>25</td>\n",
       "      <td>Y</td>\n",
       "      <td>21-OCT-13</td>\n",
       "      <td>22-NOV-13</td>\n",
       "      <td>522</td>\n",
       "      <td>NaN</td>\n",
       "      <td>[5634, 65028, 56871, 41522, 35894, 42046, 6731...</td>\n",
       "    </tr>\n",
       "    <tr>\n",
       "      <th>18761</th>\n",
       "      <td>105782</td>\n",
       "      <td>935</td>\n",
       "      <td>22</td>\n",
       "      <td>X</td>\n",
       "      <td>16-SEP-13</td>\n",
       "      <td>18-OCT-13</td>\n",
       "      <td>432</td>\n",
       "      <td>NaN</td>\n",
       "      <td>[41346, 36099, 45061, 5126, 1415, 46853, 44939...</td>\n",
       "    </tr>\n",
       "    <tr>\n",
       "      <th>38471</th>\n",
       "      <td>85970</td>\n",
       "      <td>934</td>\n",
       "      <td>18</td>\n",
       "      <td>X</td>\n",
       "      <td>10-AUG-13</td>\n",
       "      <td>04-OCT-13</td>\n",
       "      <td>387</td>\n",
       "      <td>NaN</td>\n",
       "      <td>[41601, 49409, 54664, 40587, 42131, 42517, 640...</td>\n",
       "    </tr>\n",
       "    <tr>\n",
       "      <th>9041</th>\n",
       "      <td>29081</td>\n",
       "      <td>196</td>\n",
       "      <td>20</td>\n",
       "      <td>Y</td>\n",
       "      <td>07-SEP-13</td>\n",
       "      <td>16-NOV-13</td>\n",
       "      <td>841</td>\n",
       "      <td>NaN</td>\n",
       "      <td>[1543, 17417, 5139, 48673, 48679, 48685, 4147,...</td>\n",
       "    </tr>\n",
       "    <tr>\n",
       "      <th>15481</th>\n",
       "      <td>121283</td>\n",
       "      <td>585</td>\n",
       "      <td>22</td>\n",
       "      <td>X</td>\n",
       "      <td>16-SEP-13</td>\n",
       "      <td>18-OCT-13</td>\n",
       "      <td>801</td>\n",
       "      <td>NaN</td>\n",
       "      <td>[24839, 264, 8457, 12430, 46997, 45338, 34076,...</td>\n",
       "    </tr>\n",
       "  </tbody>\n",
       "</table>\n",
       "</div>"
      ],
      "text/plain": [
       "           id  customer_id  campaign_id campaign_type start_date   end_date  \\\n",
       "33348   49576          431           25             Y  21-OCT-13  22-NOV-13   \n",
       "18761  105782          935           22             X  16-SEP-13  18-OCT-13   \n",
       "38471   85970          934           18             X  10-AUG-13  04-OCT-13   \n",
       "9041    29081          196           20             Y  07-SEP-13  16-NOV-13   \n",
       "15481  121283          585           22             X  16-SEP-13  18-OCT-13   \n",
       "\n",
       "      coupon_id  redumption_status  \\\n",
       "33348       522                NaN   \n",
       "18761       432                NaN   \n",
       "38471       387                NaN   \n",
       "9041        841                NaN   \n",
       "15481       801                NaN   \n",
       "\n",
       "                                                   items  \n",
       "33348  [5634, 65028, 56871, 41522, 35894, 42046, 6731...  \n",
       "18761  [41346, 36099, 45061, 5126, 1415, 46853, 44939...  \n",
       "38471  [41601, 49409, 54664, 40587, 42131, 42517, 640...  \n",
       "9041   [1543, 17417, 5139, 48673, 48679, 48685, 4147,...  \n",
       "15481  [24839, 264, 8457, 12430, 46997, 45338, 34076,...  "
      ]
     },
     "execution_count": 103,
     "metadata": {},
     "output_type": "execute_result"
    }
   ],
   "source": [
    "amex_test_campaign_coupon.sample(5)"
   ]
  },
  {
   "cell_type": "code",
   "execution_count": 104,
   "metadata": {},
   "outputs": [],
   "source": [
    "amex_train_campaign_coupon.to_csv('data//amex_train_campaign_coupon.csv',index=False)\n",
    "amex_test_campaign_coupon.to_csv('data//amex_test_campaign_coupon.csv',index=False)"
   ]
  },
  {
   "cell_type": "code",
   "execution_count": 105,
   "metadata": {},
   "outputs": [],
   "source": [
    "del(amex_train_campaign,amex_test_campaign,coupon_item_grouping,coupon_item_mapping,counter, coupons)"
   ]
  },
  {
   "cell_type": "code",
   "execution_count": 117,
   "metadata": {},
   "outputs": [
    {
     "data": {
      "application/vnd.dataresource+json": {
       "data": [
        {
         "age_range": "46-55",
         "brand": 686,
         "brand_type": "Established",
         "category": "Pharmaceutical",
         "coupon_discount": 0,
         "customer_id": 1431,
         "date_of_txn": "27-OCT-12",
         "family_size": "2",
         "income_bracket": 12,
         "index": 370984,
         "item_id": 58476,
         "marital_status": "Married",
         "no_of_children": null,
         "other_discount": -53.43,
         "quantity": 1,
         "rented": 0,
         "selling_price": 373.65
        },
        {
         "age_range": "36-45",
         "brand": 1933,
         "brand_type": "Established",
         "category": "Grocery",
         "coupon_discount": 0,
         "customer_id": 128,
         "date_of_txn": "07-JUN-12",
         "family_size": "3",
         "income_bracket": 1,
         "index": 140134,
         "item_id": 14440,
         "marital_status": "Married",
         "no_of_children": "1",
         "other_discount": -47.02,
         "quantity": 1,
         "rented": 0,
         "selling_price": 59.49
        },
        {
         "age_range": "18-25",
         "brand": 1278,
         "brand_type": "Established",
         "category": "Packaged Meat",
         "coupon_discount": 0,
         "customer_id": 1464,
         "date_of_txn": "20-FEB-12",
         "family_size": "1",
         "income_bracket": 1,
         "index": 15011,
         "item_id": 11103,
         "marital_status": null,
         "no_of_children": null,
         "other_discount": -85.49,
         "quantity": 2,
         "rented": 0,
         "selling_price": 70.53
        },
        {
         "age_range": "46-55",
         "brand": 1143,
         "brand_type": "Established",
         "category": "Grocery",
         "coupon_discount": 0,
         "customer_id": 1136,
         "date_of_txn": "06-DEC-12",
         "family_size": "2",
         "income_bracket": 6,
         "index": 439422,
         "item_id": 20308,
         "marital_status": "Married",
         "no_of_children": null,
         "other_discount": -7.84,
         "quantity": 1,
         "rented": 0,
         "selling_price": 35.62
        },
        {
         "age_range": "36-45",
         "brand": 56,
         "brand_type": "Local",
         "category": "Packaged Meat",
         "coupon_discount": 0,
         "customer_id": 78,
         "date_of_txn": "03-JAN-13",
         "family_size": "4",
         "income_bracket": 8,
         "index": 485969,
         "item_id": 31890,
         "marital_status": "Married",
         "no_of_children": "2",
         "other_discount": -60.55,
         "quantity": 1,
         "rented": 0,
         "selling_price": 248.98
        }
       ],
       "schema": {
        "fields": [
         {
          "name": "index",
          "type": "integer"
         },
         {
          "name": "customer_id",
          "type": "integer"
         },
         {
          "name": "date_of_txn",
          "type": "string"
         },
         {
          "name": "item_id",
          "type": "integer"
         },
         {
          "name": "brand",
          "type": "integer"
         },
         {
          "name": "brand_type",
          "type": "string"
         },
         {
          "name": "category",
          "type": "string"
         },
         {
          "name": "quantity",
          "type": "integer"
         },
         {
          "name": "selling_price",
          "type": "number"
         },
         {
          "name": "other_discount",
          "type": "number"
         },
         {
          "name": "coupon_discount",
          "type": "number"
         },
         {
          "name": "age_range",
          "type": "string"
         },
         {
          "name": "marital_status",
          "type": "string"
         },
         {
          "name": "rented",
          "type": "integer"
         },
         {
          "name": "family_size",
          "type": "string"
         },
         {
          "name": "no_of_children",
          "type": "string"
         },
         {
          "name": "income_bracket",
          "type": "integer"
         }
        ],
        "pandas_version": "0.20.0",
        "primaryKey": [
         "index"
        ]
       }
      },
      "text/html": [
       "<div>\n",
       "<style scoped>\n",
       "    .dataframe tbody tr th:only-of-type {\n",
       "        vertical-align: middle;\n",
       "    }\n",
       "\n",
       "    .dataframe tbody tr th {\n",
       "        vertical-align: top;\n",
       "    }\n",
       "\n",
       "    .dataframe thead th {\n",
       "        text-align: right;\n",
       "    }\n",
       "</style>\n",
       "<table border=\"1\" class=\"dataframe\">\n",
       "  <thead>\n",
       "    <tr style=\"text-align: right;\">\n",
       "      <th></th>\n",
       "      <th>customer_id</th>\n",
       "      <th>date_of_txn</th>\n",
       "      <th>item_id</th>\n",
       "      <th>brand</th>\n",
       "      <th>brand_type</th>\n",
       "      <th>category</th>\n",
       "      <th>quantity</th>\n",
       "      <th>selling_price</th>\n",
       "      <th>other_discount</th>\n",
       "      <th>coupon_discount</th>\n",
       "      <th>age_range</th>\n",
       "      <th>marital_status</th>\n",
       "      <th>rented</th>\n",
       "      <th>family_size</th>\n",
       "      <th>no_of_children</th>\n",
       "      <th>income_bracket</th>\n",
       "    </tr>\n",
       "  </thead>\n",
       "  <tbody>\n",
       "    <tr>\n",
       "      <th>370984</th>\n",
       "      <td>1431</td>\n",
       "      <td>27-OCT-12</td>\n",
       "      <td>58476</td>\n",
       "      <td>686</td>\n",
       "      <td>Established</td>\n",
       "      <td>Pharmaceutical</td>\n",
       "      <td>1</td>\n",
       "      <td>373.65</td>\n",
       "      <td>-53.43</td>\n",
       "      <td>0.0</td>\n",
       "      <td>46-55</td>\n",
       "      <td>Married</td>\n",
       "      <td>0</td>\n",
       "      <td>2</td>\n",
       "      <td>NaN</td>\n",
       "      <td>12</td>\n",
       "    </tr>\n",
       "    <tr>\n",
       "      <th>140134</th>\n",
       "      <td>128</td>\n",
       "      <td>07-JUN-12</td>\n",
       "      <td>14440</td>\n",
       "      <td>1933</td>\n",
       "      <td>Established</td>\n",
       "      <td>Grocery</td>\n",
       "      <td>1</td>\n",
       "      <td>59.49</td>\n",
       "      <td>-47.02</td>\n",
       "      <td>0.0</td>\n",
       "      <td>36-45</td>\n",
       "      <td>Married</td>\n",
       "      <td>0</td>\n",
       "      <td>3</td>\n",
       "      <td>1</td>\n",
       "      <td>1</td>\n",
       "    </tr>\n",
       "    <tr>\n",
       "      <th>15011</th>\n",
       "      <td>1464</td>\n",
       "      <td>20-FEB-12</td>\n",
       "      <td>11103</td>\n",
       "      <td>1278</td>\n",
       "      <td>Established</td>\n",
       "      <td>Packaged Meat</td>\n",
       "      <td>2</td>\n",
       "      <td>70.53</td>\n",
       "      <td>-85.49</td>\n",
       "      <td>0.0</td>\n",
       "      <td>18-25</td>\n",
       "      <td>NaN</td>\n",
       "      <td>0</td>\n",
       "      <td>1</td>\n",
       "      <td>NaN</td>\n",
       "      <td>1</td>\n",
       "    </tr>\n",
       "    <tr>\n",
       "      <th>439422</th>\n",
       "      <td>1136</td>\n",
       "      <td>06-DEC-12</td>\n",
       "      <td>20308</td>\n",
       "      <td>1143</td>\n",
       "      <td>Established</td>\n",
       "      <td>Grocery</td>\n",
       "      <td>1</td>\n",
       "      <td>35.62</td>\n",
       "      <td>-7.84</td>\n",
       "      <td>0.0</td>\n",
       "      <td>46-55</td>\n",
       "      <td>Married</td>\n",
       "      <td>0</td>\n",
       "      <td>2</td>\n",
       "      <td>NaN</td>\n",
       "      <td>6</td>\n",
       "    </tr>\n",
       "    <tr>\n",
       "      <th>485969</th>\n",
       "      <td>78</td>\n",
       "      <td>03-JAN-13</td>\n",
       "      <td>31890</td>\n",
       "      <td>56</td>\n",
       "      <td>Local</td>\n",
       "      <td>Packaged Meat</td>\n",
       "      <td>1</td>\n",
       "      <td>248.98</td>\n",
       "      <td>-60.55</td>\n",
       "      <td>0.0</td>\n",
       "      <td>36-45</td>\n",
       "      <td>Married</td>\n",
       "      <td>0</td>\n",
       "      <td>4</td>\n",
       "      <td>2</td>\n",
       "      <td>8</td>\n",
       "    </tr>\n",
       "  </tbody>\n",
       "</table>\n",
       "</div>"
      ],
      "text/plain": [
       "        customer_id date_of_txn  item_id  brand   brand_type        category  \\\n",
       "370984         1431   27-OCT-12    58476    686  Established  Pharmaceutical   \n",
       "140134          128   07-JUN-12    14440   1933  Established         Grocery   \n",
       "15011          1464   20-FEB-12    11103   1278  Established   Packaged Meat   \n",
       "439422         1136   06-DEC-12    20308   1143  Established         Grocery   \n",
       "485969           78   03-JAN-13    31890     56        Local   Packaged Meat   \n",
       "\n",
       "        quantity  selling_price  other_discount  coupon_discount age_range  \\\n",
       "370984         1         373.65          -53.43              0.0     46-55   \n",
       "140134         1          59.49          -47.02              0.0     36-45   \n",
       "15011          2          70.53          -85.49              0.0     18-25   \n",
       "439422         1          35.62           -7.84              0.0     46-55   \n",
       "485969         1         248.98          -60.55              0.0     36-45   \n",
       "\n",
       "       marital_status  rented family_size no_of_children  income_bracket  \n",
       "370984        Married       0           2            NaN              12  \n",
       "140134        Married       0           3              1               1  \n",
       "15011             NaN       0           1            NaN               1  \n",
       "439422        Married       0           2            NaN               6  \n",
       "485969        Married       0           4              2               8  "
      ]
     },
     "execution_count": 117,
     "metadata": {},
     "output_type": "execute_result"
    }
   ],
   "source": [
    "amex_customer_demo_txn_item = pd.read_csv('data//amex_customer_demo_txn_item.csv',infer_datetime_format=True,parse_dates=True)\n",
    "cols = [i.lower() for i in list(amex_customer_demo_txn_item.columns)]\n",
    "amex_customer_demo_txn_item.columns = cols\n",
    "amex_customer_demo_txn_item.sample(5)"
   ]
  },
  {
   "cell_type": "code",
   "execution_count": null,
   "metadata": {},
   "outputs": [],
   "source": [
    "alpha = pd.DataFrame()\n",
    "alpha_list = []\n",
    "for i in range(len(amex_customer_demo_txn_item)):\n",
    "    c_id = amex_customer_demo_txn_item.loc[i,'customer_id']\n",
    "    d_txn = amex_customer_demo_txn_item.loc[i,'date_of_txn']\n",
    "    i_id = amex_customer_demo_txn_item.loc[i,'item_id']\n",
    "    beta = amex_train_campaign_coupon[amex_train_campaign_coupon.customer_id==c_id][['campaign_id','start_date','end_date']].reset_index()\n",
    "    for j in range(len(beta)):\n",
    "        strt = beta.loc[j,'start_date']\n",
    "        end = beta.loc[j,'end_date']\n",
    "        if (d_txn > strt) and (d_txn <= end):\n",
    "            alpha_list.append('Y')\n",
    "        else: \n",
    "            alpha_list.append('N')"
   ]
  },
  {
   "cell_type": "code",
   "execution_count": null,
   "metadata": {},
   "outputs": [],
   "source": [
    "alpha_list.count('Y'),alpha_list.count('N')"
   ]
  },
  {
   "cell_type": "markdown",
   "metadata": {},
   "source": [
    "## Reference"
   ]
  },
  {
   "cell_type": "markdown",
   "metadata": {},
   "source": [
    "### DDL Statements for Loading Datasets into Database"
   ]
  },
  {
   "cell_type": "raw",
   "metadata": {},
   "source": [
    "CREATE TABLE \"SYSTEM\".\"AV_CAMPAIGN_DATA\" \n",
    "   (\n",
    "     \"CAMPAIGN_ID\" NUMBER(38,0), \n",
    "     \"CAMPAIGN_TYPE\" VARCHAR2(26 BYTE), \n",
    "     \"START_DATE\" DATE, \n",
    "     \"END_DATE\" DATE\n",
    "   )"
   ]
  },
  {
   "cell_type": "raw",
   "metadata": {},
   "source": [
    "CREATE TABLE \"SYSTEM\".\"AV_COUPON_ITEM_MAPPING\" \n",
    "   (\n",
    "    \"COUPON_ID\" NUMBER(38,0), \n",
    "    \"ITEM_ID\" NUMBER(38,0)\n",
    "   )"
   ]
  },
  {
   "cell_type": "raw",
   "metadata": {},
   "source": [
    "CREATE TABLE \"SYSTEM\".\"AV_CUSTOMER_DEMOGRAPHICS\" \n",
    "   (\n",
    "   \"CUSTOMER_ID\" NUMBER(38,0), \n",
    "   \"AGE_RANGE\" VARCHAR2(26 BYTE), \n",
    "   \"MARITAL_STATUS\" VARCHAR2(26 BYTE), \n",
    "   \"RENTED\" NUMBER(38,0), \n",
    "   \"FAMILY_SIZE\" VARCHAR2(26 BYTE), \n",
    "   \"NO_OF_CHILDREN\" VARCHAR2(26 BYTE), \n",
    "   \"INCOME_BRACKET\" NUMBER(38,0)\n",
    "   )"
   ]
  },
  {
   "cell_type": "raw",
   "metadata": {},
   "source": [
    "  CREATE TABLE \"SYSTEM\".\"AV_CUSTOMER_TRANSACTION_DATA\" \n",
    "   (\n",
    "    \"DATE_OF_TXN\" DATE, \n",
    "    \"CUSTOMER_ID\" NUMBER(38,0), \n",
    "    \"ITEM_ID\" NUMBER(38,0), \n",
    "    \"QUANTITY\" NUMBER(38,0), \n",
    "    \"SELLING_PRICE\" NUMBER(38,2), \n",
    "    \"OTHER_DISCOUNT\" NUMBER(38,2), \n",
    "    \"COUPON_DISCOUNT\" NUMBER(38,2)\n",
    "   )"
   ]
  },
  {
   "cell_type": "raw",
   "metadata": {},
   "source": [
    "CREATE TABLE \"SYSTEM\".\"AV_ITEM_DATA\" \n",
    "   (\n",
    "    \"ITEM_ID\" NUMBER(38,0), \n",
    "    \"BRAND\" NUMBER(38,0), \n",
    "    \"BRAND_TYPE\" VARCHAR2(26 BYTE), \n",
    "    \"CATEGORY\" VARCHAR2(26 BYTE)\n",
    "   )"
   ]
  },
  {
   "cell_type": "raw",
   "metadata": {},
   "source": [
    "CREATE TABLE \"SYSTEM\".\"AV_TEST\" \n",
    "   (\n",
    "    \"ID\" NUMBER(38,0), \n",
    "    \"CAMPAIGN_ID\" NUMBER(38,0), \n",
    "    \"COUPON_ID\" NUMBER(38,0), \n",
    "    \"CUSTOMER_ID\" NUMBER(38,0)\n",
    "   )"
   ]
  },
  {
   "cell_type": "raw",
   "metadata": {},
   "source": [
    "  CREATE TABLE \"SYSTEM\".\"AV_TRAIN\" \n",
    "   (\n",
    "   \"ID\" NUMBER(38,0), \n",
    "   \"CAMPAIGN_ID\" NUMBER(38,0), \n",
    "   \"COUPON_ID\" NUMBER(38,0), \n",
    "   \"CUSTOMER_ID\" NUMBER(38,0), \n",
    "   \"REDEMPTION_STATUS\" NUMBER(38,0)\n",
    "   )"
   ]
  }
 ],
 "metadata": {
  "kernelspec": {
   "display_name": "Python 3",
   "language": "python",
   "name": "python3"
  },
  "language_info": {
   "codemirror_mode": {
    "name": "ipython",
    "version": 3
   },
   "file_extension": ".py",
   "mimetype": "text/x-python",
   "name": "python",
   "nbconvert_exporter": "python",
   "pygments_lexer": "ipython3",
   "version": "3.7.3"
  }
 },
 "nbformat": 4,
 "nbformat_minor": 2
}
